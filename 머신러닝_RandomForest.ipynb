{
 "cells": [
  {
   "cell_type": "code",
   "execution_count": 1,
   "metadata": {},
   "outputs": [
    {
     "data": {
      "text/plain": [
       "(119390, 32)"
      ]
     },
     "execution_count": 1,
     "metadata": {},
     "output_type": "execute_result"
    }
   ],
   "source": [
    "import pandas as pd\n",
    "import numpy as np\n",
    "\n",
    "data = pd.read_csv('data/hotel_bookings.csv')\n",
    "data.shape"
   ]
  },
  {
   "cell_type": "code",
   "execution_count": 2,
   "metadata": {
    "scrolled": true
   },
   "outputs": [
    {
     "data": {
      "text/plain": [
       "Index(['hotel', 'is_canceled', 'lead_time', 'arrival_date_year',\n",
       "       'arrival_date_month', 'arrival_date_week_number',\n",
       "       'arrival_date_day_of_month', 'stays_in_weekend_nights',\n",
       "       'stays_in_week_nights', 'adults', 'children', 'babies', 'meal',\n",
       "       'country', 'market_segment', 'distribution_channel',\n",
       "       'is_repeated_guest', 'previous_cancellations',\n",
       "       'previous_bookings_not_canceled', 'reserved_room_type',\n",
       "       'assigned_room_type', 'booking_changes', 'deposit_type', 'agent',\n",
       "       'company', 'days_in_waiting_list', 'customer_type', 'adr',\n",
       "       'required_car_parking_spaces', 'total_of_special_requests',\n",
       "       'reservation_status', 'reservation_status_date'],\n",
       "      dtype='object')"
      ]
     },
     "execution_count": 2,
     "metadata": {},
     "output_type": "execute_result"
    }
   ],
   "source": [
    "data.columns"
   ]
  },
  {
   "cell_type": "code",
   "execution_count": 3,
   "metadata": {},
   "outputs": [],
   "source": [
    "label=['is_canceled']\n",
    "feature = ['hotel','is_canceled','lead_time','Direct(bool)','precancel(bool)','prebook(bool)','change_room(bool)','reserve_change(bool)', 'parkinglot(bool)','special_request(bool)','customer_type(label)']"
   ]
  },
  {
   "cell_type": "markdown",
   "metadata": {},
   "source": [
    "## feature 컬럼 전처리"
   ]
  },
  {
   "cell_type": "code",
   "execution_count": 4,
   "metadata": {},
   "outputs": [],
   "source": [
    "# Direct/non direct\n",
    "data.loc[data[\"distribution_channel\"]=='Direct', 'Direct(bool)'] = 1\n",
    "data.loc[data[\"distribution_channel\"]!='Direct', 'Direct(bool)'] = 0\n",
    "\n",
    "#previous_cancel = 0 or <0\n",
    "data['precancel(bool)'] = 1\n",
    "data.loc[data['previous_cancellations'] == 0, 'precancel(bool)'] = 0\n",
    "\n",
    "#previous_book_not_cancel = 0 or <0\n",
    "data['prebook(bool)'] = 1\n",
    "data.loc[data['previous_bookings_not_canceled'] == 0, 'prebook(bool)'] = 0\n",
    "\n",
    "#change_room (방이 바뀌었으면 1)\n",
    "data['change_room(bool)'] = 0\n",
    "data.loc[data['assigned_room_type'] != data['reserved_room_type'], 'change_room(bool)'] = 1\n",
    "\n",
    "#예약 사항 변경(booking changes =0 or <0)\n",
    "data['reserve_change(bool)'] = 0\n",
    "data.loc[data['previous_cancellations'] > 0, 'reserve_change(bool)'] = 1 \n",
    "\n",
    "#주차 공간 요구\n",
    "data.loc[data['required_car_parking_spaces'] == 0, 'parkinglot(bool)'] = 0\n",
    "data.loc[data['required_car_parking_spaces'] > 0,'parkinglot(bool)'] = 1\n",
    "\n",
    "#특별 요청 사항 요구\n",
    "data.loc[data['total_of_special_requests'] == 0, 'special_request(bool)'] = 0\n",
    "data.loc[data['total_of_special_requests'] > 0,'special_request(bool)'] = 1\n",
    "\n",
    "#customer type 라벨 인코딩\n",
    "from sklearn.preprocessing import LabelEncoder\n",
    "le = LabelEncoder()\n",
    "le.fit(data[\"customer_type\"])\n",
    "label_encoded = le.transform(data[\"customer_type\"])\n",
    "data[\"customer_type(label)\"] = label_encoded.reshape((-1, 1))"
   ]
  },
  {
   "cell_type": "code",
   "execution_count": 5,
   "metadata": {},
   "outputs": [
    {
     "data": {
      "text/html": [
       "<div>\n",
       "<style scoped>\n",
       "    .dataframe tbody tr th:only-of-type {\n",
       "        vertical-align: middle;\n",
       "    }\n",
       "\n",
       "    .dataframe tbody tr th {\n",
       "        vertical-align: top;\n",
       "    }\n",
       "\n",
       "    .dataframe thead th {\n",
       "        text-align: right;\n",
       "    }\n",
       "</style>\n",
       "<table border=\"1\" class=\"dataframe\">\n",
       "  <thead>\n",
       "    <tr style=\"text-align: right;\">\n",
       "      <th></th>\n",
       "      <th>hotel</th>\n",
       "      <th>is_canceled</th>\n",
       "      <th>lead_time</th>\n",
       "      <th>Direct(bool)</th>\n",
       "      <th>precancel(bool)</th>\n",
       "      <th>prebook(bool)</th>\n",
       "      <th>change_room(bool)</th>\n",
       "      <th>reserve_change(bool)</th>\n",
       "      <th>parkinglot(bool)</th>\n",
       "      <th>special_request(bool)</th>\n",
       "      <th>customer_type(label)</th>\n",
       "    </tr>\n",
       "  </thead>\n",
       "  <tbody>\n",
       "    <tr>\n",
       "      <th>0</th>\n",
       "      <td>Resort Hotel</td>\n",
       "      <td>0</td>\n",
       "      <td>342</td>\n",
       "      <td>1.0</td>\n",
       "      <td>0</td>\n",
       "      <td>0</td>\n",
       "      <td>0</td>\n",
       "      <td>0</td>\n",
       "      <td>0.0</td>\n",
       "      <td>0.0</td>\n",
       "      <td>2</td>\n",
       "    </tr>\n",
       "    <tr>\n",
       "      <th>1</th>\n",
       "      <td>Resort Hotel</td>\n",
       "      <td>0</td>\n",
       "      <td>737</td>\n",
       "      <td>1.0</td>\n",
       "      <td>0</td>\n",
       "      <td>0</td>\n",
       "      <td>0</td>\n",
       "      <td>0</td>\n",
       "      <td>0.0</td>\n",
       "      <td>0.0</td>\n",
       "      <td>2</td>\n",
       "    </tr>\n",
       "    <tr>\n",
       "      <th>2</th>\n",
       "      <td>Resort Hotel</td>\n",
       "      <td>0</td>\n",
       "      <td>7</td>\n",
       "      <td>1.0</td>\n",
       "      <td>0</td>\n",
       "      <td>0</td>\n",
       "      <td>1</td>\n",
       "      <td>0</td>\n",
       "      <td>0.0</td>\n",
       "      <td>0.0</td>\n",
       "      <td>2</td>\n",
       "    </tr>\n",
       "    <tr>\n",
       "      <th>3</th>\n",
       "      <td>Resort Hotel</td>\n",
       "      <td>0</td>\n",
       "      <td>13</td>\n",
       "      <td>0.0</td>\n",
       "      <td>0</td>\n",
       "      <td>0</td>\n",
       "      <td>0</td>\n",
       "      <td>0</td>\n",
       "      <td>0.0</td>\n",
       "      <td>0.0</td>\n",
       "      <td>2</td>\n",
       "    </tr>\n",
       "    <tr>\n",
       "      <th>4</th>\n",
       "      <td>Resort Hotel</td>\n",
       "      <td>0</td>\n",
       "      <td>14</td>\n",
       "      <td>0.0</td>\n",
       "      <td>0</td>\n",
       "      <td>0</td>\n",
       "      <td>0</td>\n",
       "      <td>0</td>\n",
       "      <td>0.0</td>\n",
       "      <td>1.0</td>\n",
       "      <td>2</td>\n",
       "    </tr>\n",
       "    <tr>\n",
       "      <th>...</th>\n",
       "      <td>...</td>\n",
       "      <td>...</td>\n",
       "      <td>...</td>\n",
       "      <td>...</td>\n",
       "      <td>...</td>\n",
       "      <td>...</td>\n",
       "      <td>...</td>\n",
       "      <td>...</td>\n",
       "      <td>...</td>\n",
       "      <td>...</td>\n",
       "      <td>...</td>\n",
       "    </tr>\n",
       "    <tr>\n",
       "      <th>119385</th>\n",
       "      <td>City Hotel</td>\n",
       "      <td>0</td>\n",
       "      <td>23</td>\n",
       "      <td>0.0</td>\n",
       "      <td>0</td>\n",
       "      <td>0</td>\n",
       "      <td>0</td>\n",
       "      <td>0</td>\n",
       "      <td>0.0</td>\n",
       "      <td>0.0</td>\n",
       "      <td>2</td>\n",
       "    </tr>\n",
       "    <tr>\n",
       "      <th>119386</th>\n",
       "      <td>City Hotel</td>\n",
       "      <td>0</td>\n",
       "      <td>102</td>\n",
       "      <td>0.0</td>\n",
       "      <td>0</td>\n",
       "      <td>0</td>\n",
       "      <td>0</td>\n",
       "      <td>0</td>\n",
       "      <td>0.0</td>\n",
       "      <td>1.0</td>\n",
       "      <td>2</td>\n",
       "    </tr>\n",
       "    <tr>\n",
       "      <th>119387</th>\n",
       "      <td>City Hotel</td>\n",
       "      <td>0</td>\n",
       "      <td>34</td>\n",
       "      <td>0.0</td>\n",
       "      <td>0</td>\n",
       "      <td>0</td>\n",
       "      <td>0</td>\n",
       "      <td>0</td>\n",
       "      <td>0.0</td>\n",
       "      <td>1.0</td>\n",
       "      <td>2</td>\n",
       "    </tr>\n",
       "    <tr>\n",
       "      <th>119388</th>\n",
       "      <td>City Hotel</td>\n",
       "      <td>0</td>\n",
       "      <td>109</td>\n",
       "      <td>0.0</td>\n",
       "      <td>0</td>\n",
       "      <td>0</td>\n",
       "      <td>0</td>\n",
       "      <td>0</td>\n",
       "      <td>0.0</td>\n",
       "      <td>0.0</td>\n",
       "      <td>2</td>\n",
       "    </tr>\n",
       "    <tr>\n",
       "      <th>119389</th>\n",
       "      <td>City Hotel</td>\n",
       "      <td>0</td>\n",
       "      <td>205</td>\n",
       "      <td>0.0</td>\n",
       "      <td>0</td>\n",
       "      <td>0</td>\n",
       "      <td>0</td>\n",
       "      <td>0</td>\n",
       "      <td>0.0</td>\n",
       "      <td>1.0</td>\n",
       "      <td>2</td>\n",
       "    </tr>\n",
       "  </tbody>\n",
       "</table>\n",
       "<p>119390 rows × 11 columns</p>\n",
       "</div>"
      ],
      "text/plain": [
       "               hotel  is_canceled  lead_time  Direct(bool)  precancel(bool)  \\\n",
       "0       Resort Hotel            0        342           1.0                0   \n",
       "1       Resort Hotel            0        737           1.0                0   \n",
       "2       Resort Hotel            0          7           1.0                0   \n",
       "3       Resort Hotel            0         13           0.0                0   \n",
       "4       Resort Hotel            0         14           0.0                0   \n",
       "...              ...          ...        ...           ...              ...   \n",
       "119385    City Hotel            0         23           0.0                0   \n",
       "119386    City Hotel            0        102           0.0                0   \n",
       "119387    City Hotel            0         34           0.0                0   \n",
       "119388    City Hotel            0        109           0.0                0   \n",
       "119389    City Hotel            0        205           0.0                0   \n",
       "\n",
       "        prebook(bool)  change_room(bool)  reserve_change(bool)  \\\n",
       "0                   0                  0                     0   \n",
       "1                   0                  0                     0   \n",
       "2                   0                  1                     0   \n",
       "3                   0                  0                     0   \n",
       "4                   0                  0                     0   \n",
       "...               ...                ...                   ...   \n",
       "119385              0                  0                     0   \n",
       "119386              0                  0                     0   \n",
       "119387              0                  0                     0   \n",
       "119388              0                  0                     0   \n",
       "119389              0                  0                     0   \n",
       "\n",
       "        parkinglot(bool)  special_request(bool)  customer_type(label)  \n",
       "0                    0.0                    0.0                     2  \n",
       "1                    0.0                    0.0                     2  \n",
       "2                    0.0                    0.0                     2  \n",
       "3                    0.0                    0.0                     2  \n",
       "4                    0.0                    1.0                     2  \n",
       "...                  ...                    ...                   ...  \n",
       "119385               0.0                    0.0                     2  \n",
       "119386               0.0                    1.0                     2  \n",
       "119387               0.0                    1.0                     2  \n",
       "119388               0.0                    0.0                     2  \n",
       "119389               0.0                    1.0                     2  \n",
       "\n",
       "[119390 rows x 11 columns]"
      ]
     },
     "execution_count": 5,
     "metadata": {},
     "output_type": "execute_result"
    }
   ],
   "source": [
    "ml_data = data[feature]\n",
    "ml_data"
   ]
  },
  {
   "cell_type": "code",
   "execution_count": 6,
   "metadata": {},
   "outputs": [],
   "source": [
    "ml_resort_data = ml_data[ml_data[\"hotel\"]==\"Resort Hotel\"]\n",
    "ml_city_data = ml_data[ml_data[\"hotel\"]==\"City Hotel\"]"
   ]
  },
  {
   "cell_type": "code",
   "execution_count": 7,
   "metadata": {},
   "outputs": [],
   "source": [
    "ml_resort_data = ml_resort_data.drop(['hotel'], axis=1)\n",
    "ml_city_data = ml_city_data.drop(['hotel'], axis=1)\n",
    "ml_city_data = ml_city_data.reset_index(drop=True)"
   ]
  },
  {
   "cell_type": "code",
   "execution_count": 8,
   "metadata": {
    "scrolled": false
   },
   "outputs": [
    {
     "data": {
      "text/html": [
       "<div>\n",
       "<style scoped>\n",
       "    .dataframe tbody tr th:only-of-type {\n",
       "        vertical-align: middle;\n",
       "    }\n",
       "\n",
       "    .dataframe tbody tr th {\n",
       "        vertical-align: top;\n",
       "    }\n",
       "\n",
       "    .dataframe thead th {\n",
       "        text-align: right;\n",
       "    }\n",
       "</style>\n",
       "<table border=\"1\" class=\"dataframe\">\n",
       "  <thead>\n",
       "    <tr style=\"text-align: right;\">\n",
       "      <th></th>\n",
       "      <th>is_canceled</th>\n",
       "      <th>lead_time</th>\n",
       "      <th>Direct(bool)</th>\n",
       "      <th>precancel(bool)</th>\n",
       "      <th>prebook(bool)</th>\n",
       "      <th>change_room(bool)</th>\n",
       "      <th>reserve_change(bool)</th>\n",
       "      <th>parkinglot(bool)</th>\n",
       "      <th>special_request(bool)</th>\n",
       "      <th>customer_type(label)</th>\n",
       "    </tr>\n",
       "  </thead>\n",
       "  <tbody>\n",
       "    <tr>\n",
       "      <th>0</th>\n",
       "      <td>0</td>\n",
       "      <td>342</td>\n",
       "      <td>1.0</td>\n",
       "      <td>0</td>\n",
       "      <td>0</td>\n",
       "      <td>0</td>\n",
       "      <td>0</td>\n",
       "      <td>0.0</td>\n",
       "      <td>0.0</td>\n",
       "      <td>2</td>\n",
       "    </tr>\n",
       "    <tr>\n",
       "      <th>1</th>\n",
       "      <td>0</td>\n",
       "      <td>737</td>\n",
       "      <td>1.0</td>\n",
       "      <td>0</td>\n",
       "      <td>0</td>\n",
       "      <td>0</td>\n",
       "      <td>0</td>\n",
       "      <td>0.0</td>\n",
       "      <td>0.0</td>\n",
       "      <td>2</td>\n",
       "    </tr>\n",
       "    <tr>\n",
       "      <th>2</th>\n",
       "      <td>0</td>\n",
       "      <td>7</td>\n",
       "      <td>1.0</td>\n",
       "      <td>0</td>\n",
       "      <td>0</td>\n",
       "      <td>1</td>\n",
       "      <td>0</td>\n",
       "      <td>0.0</td>\n",
       "      <td>0.0</td>\n",
       "      <td>2</td>\n",
       "    </tr>\n",
       "    <tr>\n",
       "      <th>3</th>\n",
       "      <td>0</td>\n",
       "      <td>13</td>\n",
       "      <td>0.0</td>\n",
       "      <td>0</td>\n",
       "      <td>0</td>\n",
       "      <td>0</td>\n",
       "      <td>0</td>\n",
       "      <td>0.0</td>\n",
       "      <td>0.0</td>\n",
       "      <td>2</td>\n",
       "    </tr>\n",
       "    <tr>\n",
       "      <th>4</th>\n",
       "      <td>0</td>\n",
       "      <td>14</td>\n",
       "      <td>0.0</td>\n",
       "      <td>0</td>\n",
       "      <td>0</td>\n",
       "      <td>0</td>\n",
       "      <td>0</td>\n",
       "      <td>0.0</td>\n",
       "      <td>1.0</td>\n",
       "      <td>2</td>\n",
       "    </tr>\n",
       "    <tr>\n",
       "      <th>...</th>\n",
       "      <td>...</td>\n",
       "      <td>...</td>\n",
       "      <td>...</td>\n",
       "      <td>...</td>\n",
       "      <td>...</td>\n",
       "      <td>...</td>\n",
       "      <td>...</td>\n",
       "      <td>...</td>\n",
       "      <td>...</td>\n",
       "      <td>...</td>\n",
       "    </tr>\n",
       "    <tr>\n",
       "      <th>40055</th>\n",
       "      <td>0</td>\n",
       "      <td>212</td>\n",
       "      <td>0.0</td>\n",
       "      <td>0</td>\n",
       "      <td>0</td>\n",
       "      <td>0</td>\n",
       "      <td>0</td>\n",
       "      <td>0.0</td>\n",
       "      <td>0.0</td>\n",
       "      <td>2</td>\n",
       "    </tr>\n",
       "    <tr>\n",
       "      <th>40056</th>\n",
       "      <td>0</td>\n",
       "      <td>169</td>\n",
       "      <td>1.0</td>\n",
       "      <td>0</td>\n",
       "      <td>0</td>\n",
       "      <td>0</td>\n",
       "      <td>0</td>\n",
       "      <td>0.0</td>\n",
       "      <td>1.0</td>\n",
       "      <td>3</td>\n",
       "    </tr>\n",
       "    <tr>\n",
       "      <th>40057</th>\n",
       "      <td>0</td>\n",
       "      <td>204</td>\n",
       "      <td>1.0</td>\n",
       "      <td>0</td>\n",
       "      <td>0</td>\n",
       "      <td>0</td>\n",
       "      <td>0</td>\n",
       "      <td>0.0</td>\n",
       "      <td>1.0</td>\n",
       "      <td>2</td>\n",
       "    </tr>\n",
       "    <tr>\n",
       "      <th>40058</th>\n",
       "      <td>0</td>\n",
       "      <td>211</td>\n",
       "      <td>0.0</td>\n",
       "      <td>0</td>\n",
       "      <td>0</td>\n",
       "      <td>0</td>\n",
       "      <td>0</td>\n",
       "      <td>0.0</td>\n",
       "      <td>1.0</td>\n",
       "      <td>0</td>\n",
       "    </tr>\n",
       "    <tr>\n",
       "      <th>40059</th>\n",
       "      <td>0</td>\n",
       "      <td>161</td>\n",
       "      <td>0.0</td>\n",
       "      <td>0</td>\n",
       "      <td>0</td>\n",
       "      <td>0</td>\n",
       "      <td>0</td>\n",
       "      <td>0.0</td>\n",
       "      <td>0.0</td>\n",
       "      <td>2</td>\n",
       "    </tr>\n",
       "  </tbody>\n",
       "</table>\n",
       "<p>40060 rows × 10 columns</p>\n",
       "</div>"
      ],
      "text/plain": [
       "       is_canceled  lead_time  Direct(bool)  precancel(bool)  prebook(bool)  \\\n",
       "0                0        342           1.0                0              0   \n",
       "1                0        737           1.0                0              0   \n",
       "2                0          7           1.0                0              0   \n",
       "3                0         13           0.0                0              0   \n",
       "4                0         14           0.0                0              0   \n",
       "...            ...        ...           ...              ...            ...   \n",
       "40055            0        212           0.0                0              0   \n",
       "40056            0        169           1.0                0              0   \n",
       "40057            0        204           1.0                0              0   \n",
       "40058            0        211           0.0                0              0   \n",
       "40059            0        161           0.0                0              0   \n",
       "\n",
       "       change_room(bool)  reserve_change(bool)  parkinglot(bool)  \\\n",
       "0                      0                     0               0.0   \n",
       "1                      0                     0               0.0   \n",
       "2                      1                     0               0.0   \n",
       "3                      0                     0               0.0   \n",
       "4                      0                     0               0.0   \n",
       "...                  ...                   ...               ...   \n",
       "40055                  0                     0               0.0   \n",
       "40056                  0                     0               0.0   \n",
       "40057                  0                     0               0.0   \n",
       "40058                  0                     0               0.0   \n",
       "40059                  0                     0               0.0   \n",
       "\n",
       "       special_request(bool)  customer_type(label)  \n",
       "0                        0.0                     2  \n",
       "1                        0.0                     2  \n",
       "2                        0.0                     2  \n",
       "3                        0.0                     2  \n",
       "4                        1.0                     2  \n",
       "...                      ...                   ...  \n",
       "40055                    0.0                     2  \n",
       "40056                    1.0                     3  \n",
       "40057                    1.0                     2  \n",
       "40058                    1.0                     0  \n",
       "40059                    0.0                     2  \n",
       "\n",
       "[40060 rows x 10 columns]"
      ]
     },
     "execution_count": 8,
     "metadata": {},
     "output_type": "execute_result"
    }
   ],
   "source": [
    "ml_resort_data"
   ]
  },
  {
   "cell_type": "code",
   "execution_count": null,
   "metadata": {},
   "outputs": [],
   "source": []
  },
  {
   "cell_type": "markdown",
   "metadata": {},
   "source": [
    "# RANDOM FOREST CLASSIFER "
   ]
  },
  {
   "cell_type": "code",
   "execution_count": 9,
   "metadata": {},
   "outputs": [],
   "source": [
    "from sklearn.ensemble import RandomForestClassifier\n",
    "from sklearn.model_selection import train_test_split, RandomizedSearchCV\n",
    "from sklearn.pipeline import Pipeline\n",
    "from sklearn.preprocessing import StandardScaler\n",
    "\n",
    "from sklearn.metrics import accuracy_score, recall_score, precision_score, f1_score\n",
    "from sklearn.metrics import confusion_matrix, classification_report, roc_auc_score\n",
    "from sklearn.metrics import roc_curve, auc, average_precision_score\n",
    "\n",
    "\n",
    "import pandas as pd\n",
    "import numpy as np\n",
    "import seaborn as sns\n",
    "import matplotlib.pyplot as plt"
   ]
  },
  {
   "cell_type": "markdown",
   "metadata": {},
   "source": [
    "## city hotel"
   ]
  },
  {
   "cell_type": "code",
   "execution_count": 10,
   "metadata": {},
   "outputs": [],
   "source": [
    "x = ml_city_data.drop(\"is_canceled\", 1)\n",
    "y = ml_city_data.loc[:,['is_canceled']]"
   ]
  },
  {
   "cell_type": "code",
   "execution_count": 11,
   "metadata": {},
   "outputs": [
    {
     "name": "stderr",
     "output_type": "stream",
     "text": [
      "<ipython-input-11-9ed5a6668db9>:16: DataConversionWarning: A column-vector y was passed when a 1d array was expected. Please change the shape of y to (n_samples,), for example using ravel().\n",
      "  rf.fit(x_train,y_train)\n"
     ]
    },
    {
     "data": {
      "text/plain": [
       "RandomForestClassifier()"
      ]
     },
     "execution_count": 11,
     "metadata": {},
     "output_type": "execute_result"
    }
   ],
   "source": [
    "#인스턴스\n",
    "\n",
    "rf = RandomForestClassifier()\n",
    "# 파라미터 (n_estimators = 100,                              \n",
    "# min_samples_leaf = 8,\n",
    "# min_samples_split = 8,\n",
    "# random_state = 0,\n",
    "# n_jobs = -1\n",
    "# n_estimators= 500, criterion='entropy',max_depth=4\n",
    "\n",
    "#셋분리\n",
    "x_train,x_test,y_train,y_test=train_test_split(x,y,test_size=0.2,random_state=42)\n",
    "\n",
    "\n",
    "#적합화\n",
    "rf.fit(x_train,y_train)\n"
   ]
  },
  {
   "cell_type": "code",
   "execution_count": 12,
   "metadata": {},
   "outputs": [],
   "source": [
    "#예측\n",
    "y_pred = rf.predict(x_test)\n",
    "\n",
    "#확률\n",
    "y_proba= rf.predict_proba(x_test)"
   ]
  },
  {
   "cell_type": "code",
   "execution_count": 13,
   "metadata": {},
   "outputs": [
    {
     "name": "stdout",
     "output_type": "stream",
     "text": [
      "accuracy_score(정확도):0.8027858313374512\n",
      "recall_score(재현율):0.7188779378316906\n",
      "precision_score(정밀도):0.7880651595744681\n",
      "f1_score(f1점수):0.7518832765046387\n",
      "roc_auc_score:0.790676160157351\n"
     ]
    }
   ],
   "source": [
    "# 분류모델평가: 정확도, 재현율, 정밀도, f1-점수와 roc_auc 점수\n",
    "from sklearn.metrics import accuracy_score,recall_score, precision_score, f1_score, roc_auc_score\n",
    "print(f\"accuracy_score(정확도):{accuracy_score(y_test, y_pred)}\")\n",
    "print(f\"recall_score(재현율):{recall_score(y_test, y_pred)}\")\n",
    "print(f\"precision_score(정밀도):{precision_score(y_test, y_pred)}\")\n",
    "print(f\"f1_score(f1점수):{f1_score(y_test, y_pred)}\")\n",
    "print(f\"roc_auc_score:{roc_auc_score(y_test, y_pred)}\")  #0.5면 랜덤예측 1.0이면 완벽예측\n"
   ]
  },
  {
   "cell_type": "code",
   "execution_count": 14,
   "metadata": {},
   "outputs": [
    {
     "name": "stdout",
     "output_type": "stream",
     "text": [
      "[[7996 1275]\n",
      " [1854 4741]]\n"
     ]
    }
   ],
   "source": [
    "print(confusion_matrix(y_test, y_pred))"
   ]
  },
  {
   "cell_type": "code",
   "execution_count": 15,
   "metadata": {
    "scrolled": true
   },
   "outputs": [
    {
     "name": "stdout",
     "output_type": "stream",
     "text": [
      "0.18804561396134534\n",
      "0.19721416866254884\n",
      "0.44408801904864403\n",
      "0.19721416866254884\n"
     ]
    }
   ],
   "source": [
    "from sklearn.metrics import r2_score, mean_squared_error, mean_absolute_error\n",
    "import math\n",
    "\n",
    "#설명력 R2 : 얼마나 잘 설명하느냐 ? \n",
    "print(r2_score(y_test, y_pred))\n",
    "\n",
    "#예측력 MSE \n",
    "print(mean_squared_error(y_test, y_pred))\n",
    "\n",
    "# RMSE 예측력 : 해석을 위해서 > 얼마나 잘 맞추었냐 ? \n",
    "print(math.sqrt(mean_squared_error(y_test, y_pred)))\n",
    "\n",
    "# MAE : 해석을 위해서\n",
    "print(mean_absolute_error(y_test, y_pred))"
   ]
  },
  {
   "cell_type": "code",
   "execution_count": 16,
   "metadata": {
    "scrolled": true
   },
   "outputs": [
    {
     "name": "stdout",
     "output_type": "stream",
     "text": [
      "              분류 보고서\n",
      "              precision    recall  f1-score   support\n",
      "\n",
      "           0       0.81      0.86      0.84      9271\n",
      "           1       0.79      0.72      0.75      6595\n",
      "\n",
      "    accuracy                           0.80     15866\n",
      "   macro avg       0.80      0.79      0.79     15866\n",
      "weighted avg       0.80      0.80      0.80     15866\n",
      "\n"
     ]
    }
   ],
   "source": [
    "# 분류 보고서를 작성해라\n",
    "from sklearn.metrics import classification_report\n",
    "print('              분류 보고서')\n",
    "print(classification_report(y_test, y_pred))"
   ]
  },
  {
   "cell_type": "code",
   "execution_count": 17,
   "metadata": {},
   "outputs": [
    {
     "name": "stdout",
     "output_type": "stream",
     "text": [
      "Confusion matrix for threshold = 0.5\n",
      "[[ 80.13860717  31.33874239]\n",
      " [ 21.55172414 135.15889114]]\n",
      " \n",
      "Confusion matrix for threshold = 0.55\n",
      "[[ 75.84516565  35.63218391]\n",
      " [ 17.63015551 139.08045977]]\n",
      " \n",
      "Confusion matrix for threshold = 0.6\n",
      "[[ 71.29817444  40.17917512]\n",
      " [ 13.43813387 143.27248141]]\n",
      " \n",
      "Confusion matrix for threshold = 0.65\n",
      "[[ 66.81879648  44.65855308]\n",
      " [ 10.51386072 146.19675456]]\n",
      " \n",
      "Confusion matrix for threshold = 0.7\n",
      "[[ 62.84651792  48.63083164]\n",
      " [  8.13049358 148.5801217 ]]\n",
      " \n",
      "Confusion matrix for threshold = 0.75\n",
      "[[ 56.57538878  54.90196078]\n",
      " [  5.59499662 151.11561866]]\n",
      " \n",
      "Confusion matrix for threshold = 0.8\n",
      "[[ 52.40027045  59.07707911]\n",
      " [  4.56389452 152.14672076]]\n",
      " \n",
      "Confusion matrix for threshold = 0.85\n",
      "[[ 41.86950642  69.60784314]\n",
      " [  2.16362407 154.54699121]]\n",
      " \n",
      "ALL METRICS\n",
      "                  0         1          2          3          4          5  \\\n",
      "THRESHOLD       0.5      0.55        0.6       0.65        0.7       0.75   \n",
      "accuracy   0.802786  0.801399   0.800076   0.794277   0.788352   0.774423   \n",
      "recall     0.718878  0.680364   0.639575   0.599393    0.56376   0.507506   \n",
      "tnr        0.862474  0.887499   0.914249   0.932909   0.948118   0.964297   \n",
      "fpr        0.137526  0.112501  0.0857513  0.0670909  0.0518822  0.0357027   \n",
      "precision  0.788065  0.811392   0.841412   0.864044   0.885449   0.910005   \n",
      "f1_score   0.751883  0.740124    0.72674   0.707789   0.688901   0.651611   \n",
      "\n",
      "                   6          7  \n",
      "THRESHOLD        0.8       0.85  \n",
      "accuracy      0.7627   0.732384  \n",
      "recall      0.470053   0.375588  \n",
      "tnr         0.970877   0.986194  \n",
      "fpr        0.0291231  0.0138065  \n",
      "precision   0.919881   0.950864  \n",
      "f1_score    0.622178   0.538478  \n"
     ]
    }
   ],
   "source": [
    "from sklearn.metrics import confusion_matrix\n",
    "THRESHOLD = [0.5,  0.55, 0.60, 0.65, 0.70, .75, .80, .85] #임계값\n",
    " # 결과를 담을 데이터프레임\n",
    "results = pd.DataFrame(columns=[\"THRESHOLD\", \"accuracy\", \"recall\", \"tnr\", \"fpr\", \"precision\", \"f1_score\"])\n",
    "# 임계값 열\n",
    "results['THRESHOLD'] = THRESHOLD                                                                          \n",
    "             \n",
    "j = 0        \n",
    "# 각 임계값에 대해 반복시행\n",
    "for i in THRESHOLD:     \n",
    "    \n",
    "    # 모델을 데이터에 적합화\n",
    "    # lgst_reg.fit(X_train, y_train)\n",
    "    \n",
    "    # 만약 prob > threshold이면, 1로 예측한다.\n",
    "    preds = np.where(rf.predict_proba(x_test)[:,1] > i, 1, 0)   \n",
    "    \n",
    "    # 혼동행렬 (%로 표현)\n",
    "    cm = (confusion_matrix(y_test, preds,labels=[1, 0], sample_weight=None) / 5916 )*100                  \n",
    "    \n",
    "    print('Confusion matrix for threshold =',i)\n",
    "    print(cm)\n",
    "    print(' ')      \n",
    "    \n",
    "    TP = cm[0][0]  # True Positives (참양성)\n",
    "    FN = cm[0][1]  # False Positives (거짓양성)\n",
    "    FP = cm[1][0]  # True Negatives (참음성)\n",
    "    TN = cm[1][1]  # False Negatives (거짓음성)\n",
    "        \n",
    "    results.iloc[j,1] = accuracy_score(y_test, preds) #정확도\n",
    "    results.iloc[j,2] = recall_score(y_test, preds) # 재현율\n",
    "    results.iloc[j,3] = TN/(FP+TN)   # True negative rate : 특이도\n",
    "    results.iloc[j,4] = FP/(FP+TN)   # False positive rate : 1- 특이도 (재현율과 같이 ROC 만든다.)\n",
    "    results.iloc[j,5] = precision_score(y_test, preds) #정밀도\n",
    "    results.iloc[j,6] = f1_score(y_test, preds) #F1점수\n",
    "   \n",
    "    j += 1\n",
    "\n",
    "print('ALL METRICS')\n",
    "print( results.T) #결과 데이터프레임을 프린트\n"
   ]
  },
  {
   "cell_type": "code",
   "execution_count": 33,
   "metadata": {},
   "outputs": [
    {
     "name": "stdout",
     "output_type": "stream",
     "text": [
      "No Skill: ROC AUC=0.500\n",
      "Random Forest: ROC AUC=0.874\n"
     ]
    },
    {
     "data": {
      "image/png": "[encoded data removed]",
      "text/plain": [
       "<Figure size 432x288 with 1 Axes>"
      ]
     },
     "metadata": {
      "needs_background": "light"
     },
     "output_type": "display_data"
    }
   ],
   "source": [
    "import matplotlib.pyplot as plt\n",
    "from sklearn.metrics import roc_curve\n",
    "\n",
    "# predict probabilities\n",
    "rf_proba = rf.predict_proba(x_test)\n",
    "\n",
    "# generate a no skill prediction (majority class)\n",
    "ns_proba = [0 for _ in range(len(y_test))]\n",
    " \n",
    "# keep probabilities for the positive outcome only\n",
    "rf_proba = rf_proba[:, 1]\n",
    " \n",
    "# calculate scores\n",
    "ns_auc = roc_auc_score(y_test, ns_proba)\n",
    "rf_auc = roc_auc_score(y_test, rf_proba)\n",
    " \n",
    "# summarize scores\n",
    "print('No Skill: ROC AUC=%.3f' % (ns_auc))\n",
    "print('Random Forest: ROC AUC=%.3f' % (rf_auc))\n",
    " \n",
    "# calculate roc curves\n",
    "ns_fpr, ns_tpr, _ = roc_curve(y_test, ns_proba)\n",
    "rf_fpr, rf_tpr, _ = roc_curve(y_test, rf_proba)\n",
    " \n",
    "# plot the roc curve for the model\n",
    "plt.plot(ns_fpr, ns_tpr, linestyle='--', label='No Skill')\n",
    "plt.plot(rf_fpr, rf_tpr, marker='.', label='Random Forest')\n",
    " \n",
    "# axis labels\n",
    "plt.xlabel('False Positive Rate')\n",
    "plt.ylabel('True Positive Rate')\n",
    " \n",
    "# show the legend\n",
    "plt.legend()\n",
    " \n",
    "# show the plot\n",
    "plt.show()"
   ]
  },
  {
   "cell_type": "code",
   "execution_count": 19,
   "metadata": {},
   "outputs": [
    {
     "data": {
      "image/png": "[encoded data removed]",
      "text/plain": [
       "<Figure size 432x288 with 1 Axes>"
      ]
     },
     "metadata": {
      "needs_background": "light"
     },
     "output_type": "display_data"
    }
   ],
   "source": [
    "#중요도\n",
    "plt.barh(x_train.columns, rf.feature_importances_)\n",
    "plt.show()"
   ]
  },
  {
   "cell_type": "code",
   "execution_count": 20,
   "metadata": {
    "scrolled": false
   },
   "outputs": [
    {
     "data": {
      "text/plain": [
       "Text(50.99999999999999, 0.5, 'True labels\\n')"
      ]
     },
     "execution_count": 20,
     "metadata": {},
     "output_type": "execute_result"
    },
    {
     "data": {
      "image/png": "[encoded data removed]",
      "text/plain": [
       "<Figure size 576x360 with 2 Axes>"
      ]
     },
     "metadata": {
      "needs_background": "light"
     },
     "output_type": "display_data"
    }
   ],
   "source": [
    "rf_conf = confusion_matrix(y_pred, y_test)\n",
    "rf_confusion = pd.DataFrame(data=rf_conf, columns=[['Predicted Not Canceled', 'Predicted Canceled']],\n",
    "                           index = [['Actual Not Canceled', 'Actual Canceled']])\n",
    "fig, ax = plt.subplots(figsize = (8,5))\n",
    "sns.heatmap(rf_confusion, annot=True, fmt='g',cmap=\"Blues\")\n",
    "ax.set_xlabel('\\nPredicted labels'); ax.set_ylabel('True labels\\n')"
   ]
  },
  {
   "cell_type": "code",
   "execution_count": null,
   "metadata": {},
   "outputs": [],
   "source": []
  },
  {
   "cell_type": "markdown",
   "metadata": {},
   "source": [
    "## resort hotel"
   ]
  },
  {
   "cell_type": "code",
   "execution_count": 21,
   "metadata": {},
   "outputs": [],
   "source": [
    "X = ml_resort_data.drop(\"is_canceled\", 1)\n",
    "Y = ml_resort_data.loc[:,['is_canceled']]"
   ]
  },
  {
   "cell_type": "code",
   "execution_count": 22,
   "metadata": {},
   "outputs": [
    {
     "name": "stderr",
     "output_type": "stream",
     "text": [
      "<ipython-input-22-a0683f269b17>:10: DataConversionWarning: A column-vector y was passed when a 1d array was expected. Please change the shape of y to (n_samples,), for example using ravel().\n",
      "  rf2.fit(X_train,Y_train)\n"
     ]
    },
    {
     "data": {
      "text/plain": [
       "RandomForestClassifier()"
      ]
     },
     "execution_count": 22,
     "metadata": {},
     "output_type": "execute_result"
    }
   ],
   "source": [
    "#인스턴스\n",
    "\n",
    "rf2 = RandomForestClassifier()\n",
    "\n",
    "#셋분리\n",
    "X_train,X_test,Y_train,Y_test=train_test_split(X,Y,test_size=0.2,random_state=42)\n",
    "\n",
    "\n",
    "#적합화\n",
    "rf2.fit(X_train,Y_train)\n"
   ]
  },
  {
   "cell_type": "code",
   "execution_count": 23,
   "metadata": {},
   "outputs": [],
   "source": [
    "#예측\n",
    "y_pred2 = rf2.predict(X_test)\n",
    "\n",
    "#확률\n",
    "y_proba2= rf2.predict_proba(X_test)"
   ]
  },
  {
   "cell_type": "code",
   "execution_count": 24,
   "metadata": {},
   "outputs": [
    {
     "name": "stdout",
     "output_type": "stream",
     "text": [
      "accuracy_score(정확도):0.7914378432351473\n",
      "recall_score(재현율):0.5392953929539296\n",
      "precision_score(정밀도):0.6471544715447154\n",
      "f1_score(f1점수):0.5883222468588323\n",
      "roc_auc_score:0.71350764818445\n"
     ]
    }
   ],
   "source": [
    "# 분류모델평가: 정확도, 재현율, 정밀도, f1-점수와 roc_auc 점수\n",
    "from sklearn.metrics import accuracy_score,recall_score, precision_score, f1_score, roc_auc_score\n",
    "print(f\"accuracy_score(정확도):{accuracy_score(Y_test, y_pred2)}\")\n",
    "print(f\"recall_score(재현율):{recall_score(Y_test, y_pred2)}\")\n",
    "print(f\"precision_score(정밀도):{precision_score(Y_test, y_pred2)}\")\n",
    "print(f\"f1_score(f1점수):{f1_score(Y_test, y_pred2)}\")\n",
    "print(f\"roc_auc_score:{roc_auc_score(Y_test, y_pred2)}\")  #0.5면 랜덤예측 1.0이면 완벽예측"
   ]
  },
  {
   "cell_type": "code",
   "execution_count": 25,
   "metadata": {},
   "outputs": [
    {
     "name": "stdout",
     "output_type": "stream",
     "text": [
      "[[5147  651]\n",
      " [1020 1194]]\n"
     ]
    }
   ],
   "source": [
    "print(confusion_matrix(Y_test, y_pred2))"
   ]
  },
  {
   "cell_type": "code",
   "execution_count": 26,
   "metadata": {},
   "outputs": [
    {
     "name": "stdout",
     "output_type": "stream",
     "text": [
      "-0.042945375987047285\n",
      "0.2085621567648527\n",
      "0.4566860593064482\n",
      "0.2085621567648527\n"
     ]
    }
   ],
   "source": [
    "from sklearn.metrics import r2_score, mean_squared_error, mean_absolute_error\n",
    "import math\n",
    "\n",
    "#설명력 R2 : 얼마나 잘 설명하느냐 ? \n",
    "print(r2_score(Y_test, y_pred2))\n",
    "\n",
    "#예측력 MSE \n",
    "print(mean_squared_error(Y_test, y_pred2))\n",
    "\n",
    "# RMSE 예측력 : 해석을 위해서 > 얼마나 잘 맞추었냐 ? \n",
    "print(math.sqrt(mean_squared_error(Y_test, y_pred2)))\n",
    "\n",
    "# MAE : 해석을 위해서\n",
    "print(mean_absolute_error(Y_test, y_pred2))"
   ]
  },
  {
   "cell_type": "code",
   "execution_count": 27,
   "metadata": {},
   "outputs": [
    {
     "name": "stdout",
     "output_type": "stream",
     "text": [
      "              분류 보고서\n",
      "              precision    recall  f1-score   support\n",
      "\n",
      "           0       0.83      0.89      0.86      5798\n",
      "           1       0.65      0.54      0.59      2214\n",
      "\n",
      "    accuracy                           0.79      8012\n",
      "   macro avg       0.74      0.71      0.72      8012\n",
      "weighted avg       0.78      0.79      0.79      8012\n",
      "\n"
     ]
    }
   ],
   "source": [
    "# 분류 보고서를 작성해라\n",
    "from sklearn.metrics import classification_report\n",
    "print('              분류 보고서')\n",
    "print(classification_report(Y_test, y_pred2))"
   ]
  },
  {
   "cell_type": "code",
   "execution_count": 32,
   "metadata": {},
   "outputs": [
    {
     "name": "stdout",
     "output_type": "stream",
     "text": [
      "No Skill: ROC AUC=0.500\n",
      "Random Forest: ROC AUC=0.847\n"
     ]
    },
    {
     "data": {
      "image/png": "[encoded data removed]",
      "text/plain": [
       "<Figure size 432x288 with 1 Axes>"
      ]
     },
     "metadata": {
      "needs_background": "light"
     },
     "output_type": "display_data"
    }
   ],
   "source": [
    "import matplotlib.pyplot as plt\n",
    "from sklearn.metrics import roc_curve\n",
    "\n",
    "# predict probabilities\n",
    "rf2_proba = rf2.predict_proba(X_test)\n",
    "\n",
    "# generate a no skill prediction (majority class)\n",
    "ns2_proba = [0 for _ in range(len(Y_test))]\n",
    " \n",
    "# keep probabilities for the positive outcome only\n",
    "rf2_proba = rf2_proba[:, 1]\n",
    " \n",
    "# calculate scores\n",
    "ns2_auc = roc_auc_score(Y_test, ns2_proba)\n",
    "rf2_auc = roc_auc_score(Y_test, rf2_proba)\n",
    " \n",
    "# summarize scores\n",
    "print('No Skill: ROC AUC=%.3f' % (ns2_auc))\n",
    "print('Random Forest: ROC AUC=%.3f' % (rf2_auc))\n",
    " \n",
    "# calculate roc curves\n",
    "ns2_fpr, ns2_tpr, _ = roc_curve(Y_test, ns2_proba)\n",
    "rf2_fpr, rf2_tpr, _ = roc_curve(Y_test, rf2_proba)\n",
    " \n",
    "# plot the roc curve for the model\n",
    "plt.plot(ns2_fpr, ns2_tpr, linestyle='--', label='No Skill')\n",
    "plt.plot(rf2_fpr, rf2_tpr, marker='.', label='Random Forest')\n",
    " \n",
    "# axis labels\n",
    "plt.xlabel('False Positive Rate')\n",
    "plt.ylabel('True Positive Rate')\n",
    " \n",
    "# show the legend\n",
    "plt.legend()\n",
    " \n",
    "# show the plot\n",
    "plt.show()"
   ]
  },
  {
   "cell_type": "code",
   "execution_count": 29,
   "metadata": {},
   "outputs": [
    {
     "data": {
      "text/plain": [
       "Text(50.99999999999999, 0.5, 'True labels\\n')"
      ]
     },
     "execution_count": 29,
     "metadata": {},
     "output_type": "execute_result"
    },
    {
     "data": {
      "image/png": "[encoded data removed]",
      "text/plain": [
       "<Figure size 576x360 with 2 Axes>"
      ]
     },
     "metadata": {
      "needs_background": "light"
     },
     "output_type": "display_data"
    }
   ],
   "source": [
    "rf_conf = confusion_matrix(y_pred2, Y_test)\n",
    "rf_confusion = pd.DataFrame(data=rf_conf, columns=[['Predicted Not Canceled', 'Predicted Canceled']],\n",
    "                           index = [['Actual Not Canceled', 'Actual Canceled']])\n",
    "fig, ax = plt.subplots(figsize = (8,5))\n",
    "sns.heatmap(rf_confusion, annot=True, fmt='g',cmap=\"Blues\")\n",
    "ax.set_xlabel('\\nPredicted labels'); ax.set_ylabel('True labels\\n')"
   ]
  },
  {
   "cell_type": "code",
   "execution_count": 36,
   "metadata": {},
   "outputs": [
    {
     "ename": "AttributeError",
     "evalue": "'RandomForestClassifier' object has no attribute 'get_feature_importance'",
     "output_type": "error",
     "traceback": [
      "\u001b[1;31m---------------------------------------------------------------------------\u001b[0m",
      "\u001b[1;31mAttributeError\u001b[0m                            Traceback (most recent call last)",
      "\u001b[1;32m<ipython-input-36-42fa08634169>\u001b[0m in \u001b[0;36m<module>\u001b[1;34m\u001b[0m\n\u001b[1;32m----> 1\u001b[1;33m \u001b[0mimportances\u001b[0m \u001b[1;33m=\u001b[0m \u001b[0mrf\u001b[0m\u001b[1;33m.\u001b[0m\u001b[0mget_feature_importance\u001b[0m\u001b[1;33m(\u001b[0m\u001b[0mprettified\u001b[0m\u001b[1;33m=\u001b[0m\u001b[1;32mTrue\u001b[0m\u001b[1;33m)\u001b[0m\u001b[1;33m\u001b[0m\u001b[1;33m\u001b[0m\u001b[0m\n\u001b[0m\u001b[0;32m      2\u001b[0m \u001b[0mimportances\u001b[0m\u001b[1;33m\u001b[0m\u001b[1;33m\u001b[0m\u001b[0m\n",
      "\u001b[1;31mAttributeError\u001b[0m: 'RandomForestClassifier' object has no attribute 'get_feature_importance'"
     ]
    }
   ],
   "source": [
    "importances = rf.get_feature_importance(prettified=True)\n",
    "importances"
   ]
  },
  {
   "cell_type": "code",
   "execution_count": 34,
   "metadata": {},
   "outputs": [
    {
     "data": {
      "image/png": "[encoded data removed]",
      "text/plain": [
       "<Figure size 432x288 with 1 Axes>"
      ]
     },
     "metadata": {
      "needs_background": "light"
     },
     "output_type": "display_data"
    }
   ],
   "source": [
    "#중요도\n",
    "plt.barh(X_train.columns, rf2.feature_importances_)\n",
    "plt.show()"
   ]
  },
  {
   "cell_type": "code",
   "execution_count": null,
   "metadata": {},
   "outputs": [],
   "source": []
  }
 ],
 "metadata": {
  "kernelspec": {
   "display_name": "Python 3",
   "language": "python",
   "name": "python3"
  },
  "language_info": {
   "codemirror_mode": {
    "name": "ipython",
    "version": 3
   },
   "file_extension": ".py",
   "mimetype": "text/x-python",
   "name": "python",
   "nbconvert_exporter": "python",
   "pygments_lexer": "ipython3",
   "version": "3.7.6"
  }
 },
 "nbformat": 4,
 "nbformat_minor": 4
}
