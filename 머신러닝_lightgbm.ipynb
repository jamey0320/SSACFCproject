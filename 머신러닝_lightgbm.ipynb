{
 "cells": [
  {
   "cell_type": "code",
   "execution_count": 15,
   "metadata": {},
   "outputs": [
    {
     "name": "stdout",
     "output_type": "stream",
     "text": [
      "Collecting lightgbmNote: you may need to restart the kernel to use updated packages.\n",
      "  Downloading lightgbm-3.1.1-py2.py3-none-win_amd64.whl (754 kB)\n",
      "Requirement already satisfied: numpy in c:\\users\\jamey\\anaconda3\\lib\\site-packages (from lightgbm) (1.19.5)\n",
      "Requirement already satisfied: scipy in c:\\users\\jamey\\anaconda3\\lib\\site-packages (from lightgbm) (1.5.2)\n",
      "Requirement already satisfied: scikit-learn!=0.22.0 in c:\\users\\jamey\\anaconda3\\lib\\site-packages (from lightgbm) (0.23.2)\n",
      "Requirement already satisfied: wheel in c:\\users\\jamey\\anaconda3\\lib\\site-packages (from lightgbm) (0.36.2)\n",
      "Requirement already satisfied: threadpoolctl>=2.0.0 in c:\\users\\jamey\\anaconda3\\lib\\site-packages (from scikit-learn!=0.22.0->lightgbm) (2.1.0)\n",
      "Requirement already satisfied: joblib>=0.11 in c:\\users\\jamey\\anaconda3\\lib\\site-packages (from scikit-learn!=0.22.0->lightgbm) (1.0.0)\n",
      "Installing collected packages: lightgbm\n",
      "Successfully installed lightgbm-3.1.1\n",
      "\n"
     ]
    }
   ],
   "source": [
    "pip install lightgbm"
   ]
  },
  {
   "cell_type": "code",
   "execution_count": 1,
   "metadata": {},
   "outputs": [
    {
     "data": {
      "text/plain": [
       "(119390, 32)"
      ]
     },
     "execution_count": 1,
     "metadata": {},
     "output_type": "execute_result"
    }
   ],
   "source": [
    "from sklearn.ensemble import RandomForestClassifier\n",
    "from sklearn.model_selection import train_test_split, RandomizedSearchCV\n",
    "from sklearn.pipeline import Pipeline\n",
    "from sklearn.preprocessing import StandardScaler\n",
    "\n",
    "from sklearn.metrics import accuracy_score, recall_score, precision_score, f1_score\n",
    "from sklearn.metrics import confusion_matrix, classification_report, roc_auc_score\n",
    "from sklearn.metrics import roc_curve, auc, average_precision_score\n",
    "\n",
    "\n",
    "import pandas as pd\n",
    "import numpy as np\n",
    "import seaborn as sns\n",
    "import matplotlib.pyplot as plt\n",
    "import lightgbm as lgb\n",
    "\n",
    "data = pd.read_csv('data/hotel_bookings.csv')\n",
    "data.shape"
   ]
  },
  {
   "cell_type": "code",
   "execution_count": 2,
   "metadata": {},
   "outputs": [],
   "source": [
    "label=['is_canceled']\n",
    "feature = ['hotel','is_canceled','lead_time','Direct(bool)','precancel(bool)','prebook(bool)','change_room(bool)','reserve_change(bool)', 'parkinglot(bool)','special_request(bool)','customer_type(label)']"
   ]
  },
  {
   "cell_type": "markdown",
   "metadata": {},
   "source": [
    "## feature 컬럼 전처리"
   ]
  },
  {
   "cell_type": "code",
   "execution_count": 3,
   "metadata": {},
   "outputs": [],
   "source": [
    "# Direct/non direct\n",
    "data.loc[data[\"distribution_channel\"]=='Direct', 'Direct(bool)'] = 1\n",
    "data.loc[data[\"distribution_channel\"]!='Direct', 'Direct(bool)'] = 0\n",
    "\n",
    "#previous_cancel = 0 or <0\n",
    "data['precancel(bool)'] = 1\n",
    "data.loc[data['previous_cancellations'] == 0, 'precancel(bool)'] = 0\n",
    "\n",
    "#previous_book_not_cancel = 0 or <0\n",
    "data['prebook(bool)'] = 1\n",
    "data.loc[data['previous_bookings_not_canceled'] == 0, 'prebook(bool)'] = 0\n",
    "\n",
    "#change_room (방이 바뀌었으면 1)\n",
    "data['change_room(bool)'] = 0\n",
    "data.loc[data['assigned_room_type'] != data['reserved_room_type'], 'change_room(bool)'] = 1\n",
    "\n",
    "#예약 사항 변경(booking changes =0 or <0)\n",
    "data['reserve_change(bool)'] = 0\n",
    "data.loc[data['previous_cancellations'] > 0, 'reserve_change(bool)'] = 1 \n",
    "\n",
    "#주차 공간 요구\n",
    "data.loc[data['required_car_parking_spaces'] == 0, 'parkinglot(bool)'] = 0\n",
    "data.loc[data['required_car_parking_spaces'] > 0,'parkinglot(bool)'] = 1\n",
    "\n",
    "#특별 요청 사항 요구\n",
    "data.loc[data['total_of_special_requests'] == 0, 'special_request(bool)'] = 0\n",
    "data.loc[data['total_of_special_requests'] > 0,'special_request(bool)'] = 1\n",
    "\n",
    "#customer type 라벨 인코딩\n",
    "from sklearn.preprocessing import LabelEncoder\n",
    "le = LabelEncoder()\n",
    "le.fit(data[\"customer_type\"])\n",
    "label_encoded = le.transform(data[\"customer_type\"])\n",
    "data[\"customer_type(label)\"] = label_encoded.reshape((-1, 1))"
   ]
  },
  {
   "cell_type": "code",
   "execution_count": 4,
   "metadata": {},
   "outputs": [],
   "source": [
    "ml_data = data[feature]"
   ]
  },
  {
   "cell_type": "code",
   "execution_count": 5,
   "metadata": {},
   "outputs": [],
   "source": [
    "ml_resort_data = ml_data[ml_data[\"hotel\"]==\"Resort Hotel\"]\n",
    "ml_city_data = ml_data[ml_data[\"hotel\"]==\"City Hotel\"]"
   ]
  },
  {
   "cell_type": "code",
   "execution_count": 6,
   "metadata": {},
   "outputs": [],
   "source": [
    "ml_resort_data = ml_resort_data.drop(['hotel'], axis=1)\n",
    "ml_city_data = ml_city_data.drop(['hotel'], axis=1)\n",
    "ml_city_data = ml_city_data.reset_index(drop=True)"
   ]
  },
  {
   "cell_type": "markdown",
   "metadata": {},
   "source": [
    "## city hotel"
   ]
  },
  {
   "cell_type": "code",
   "execution_count": 7,
   "metadata": {},
   "outputs": [],
   "source": [
    "x = ml_city_data.drop(\"is_canceled\", 1)\n",
    "y = ml_city_data.loc[:,['is_canceled']]"
   ]
  },
  {
   "cell_type": "code",
   "execution_count": 8,
   "metadata": {},
   "outputs": [],
   "source": [
    "#셋분리\n",
    "x_train,x_test,y_train,y_test=train_test_split(x,y,test_size=0.2)\n",
    "\n",
    "sc = StandardScaler()\n",
    "x_train = sc.fit_transform(x_train)\n",
    "x_test = sc.transform(x_test)"
   ]
  },
  {
   "cell_type": "code",
   "execution_count": 9,
   "metadata": {},
   "outputs": [
    {
     "name": "stdout",
     "output_type": "stream",
     "text": [
      "[LightGBM] [Info] Number of positive: 26510, number of negative: 36954\n",
      "[LightGBM] [Warning] Auto-choosing row-wise multi-threading, the overhead of testing was 0.002252 seconds.\n",
      "You can set `force_row_wise=true` to remove the overhead.\n",
      "And if memory is not enough, you can set `force_col_wise=true`.\n",
      "[LightGBM] [Info] Total Bins 281\n",
      "[LightGBM] [Info] Number of data points in the train set: 63464, number of used features: 9\n",
      "[LightGBM] [Info] [binary:BoostFromScore]: pavg=0.417717 -> initscore=-0.332152\n",
      "[LightGBM] [Info] Start training from score -0.332152\n"
     ]
    }
   ],
   "source": [
    "d_train = lgb.Dataset(x_train, label=y_train)\n",
    "\n",
    "params = {}\n",
    "params['learning_rate'] = 0.05\n",
    "params['boosting_type'] = 'gbdt'\n",
    "params['objective'] = 'binary'\n",
    "params['metric'] = 'binary_logloss'\n",
    "\n",
    "clf = lgb.train(params, d_train)"
   ]
  },
  {
   "cell_type": "code",
   "execution_count": 10,
   "metadata": {},
   "outputs": [
    {
     "ename": "AttributeError",
     "evalue": "'Booster' object has no attribute 'predict_proba'",
     "output_type": "error",
     "traceback": [
      "\u001b[1;31m---------------------------------------------------------------------------\u001b[0m",
      "\u001b[1;31mAttributeError\u001b[0m                            Traceback (most recent call last)",
      "\u001b[1;32m<ipython-input-10-f7fb996bbae0>\u001b[0m in \u001b[0;36m<module>\u001b[1;34m\u001b[0m\n\u001b[0;32m      9\u001b[0m         \u001b[0my_pred\u001b[0m\u001b[1;33m[\u001b[0m\u001b[0mi\u001b[0m\u001b[1;33m]\u001b[0m\u001b[1;33m=\u001b[0m\u001b[1;36m0\u001b[0m\u001b[1;33m\u001b[0m\u001b[1;33m\u001b[0m\u001b[0m\n\u001b[0;32m     10\u001b[0m \u001b[1;33m\u001b[0m\u001b[0m\n\u001b[1;32m---> 11\u001b[1;33m \u001b[0my_proba\u001b[0m \u001b[1;33m=\u001b[0m \u001b[0mclf\u001b[0m\u001b[1;33m.\u001b[0m\u001b[0mpredict_proba\u001b[0m\u001b[1;33m(\u001b[0m\u001b[0mX_test\u001b[0m\u001b[1;33m)\u001b[0m\u001b[1;33m\u001b[0m\u001b[1;33m\u001b[0m\u001b[0m\n\u001b[0m",
      "\u001b[1;31mAttributeError\u001b[0m: 'Booster' object has no attribute 'predict_proba'"
     ]
    }
   ],
   "source": [
    "#예측\n",
    "#Prediction\n",
    "y_pred=clf.predict(x_test)\n",
    "#convert into binary values\n",
    "for i in range(len(y_pred)):\n",
    "    if y_pred[i]>=.36:\n",
    "        y_pred[i]=1\n",
    "    else:\n",
    "        y_pred[i]=0"
   ]
  },
  {
   "cell_type": "code",
   "execution_count": 15,
   "metadata": {
    "scrolled": false
   },
   "outputs": [
    {
     "name": "stdout",
     "output_type": "stream",
     "text": [
      "accuracy_score(정확도):0.7954745997730998\n",
      "recall_score(재현율):0.7381346994123851\n",
      "precision_score(정밀도):0.7647517951920075\n",
      "f1_score(f1점수):0.7512075442766234\n",
      "roc_auc_score:0.787422534449935\n"
     ]
    }
   ],
   "source": [
    "# 분류모델평가: 정확도, 재현율, 정밀도, f1-점수와 roc_auc 점수\n",
    "from sklearn.metrics import accuracy_score,recall_score, precision_score, f1_score, roc_auc_score\n",
    "print(f\"accuracy_score(정확도):{accuracy_score(y_test, y_pred)}\")\n",
    "print(f\"recall_score(재현율):{recall_score(y_test, y_pred)}\")\n",
    "print(f\"precision_score(정밀도):{precision_score(y_test, y_pred)}\")\n",
    "print(f\"f1_score(f1점수):{f1_score(y_test, y_pred)}\")\n",
    "print(f\"roc_auc_score:{roc_auc_score(y_test, y_pred)}\")  #0.5면 랜덤예측 1.0이면 완벽예측"
   ]
  },
  {
   "cell_type": "markdown",
   "metadata": {},
   "source": [
    "## resort hotel"
   ]
  },
  {
   "cell_type": "code",
   "execution_count": 18,
   "metadata": {},
   "outputs": [],
   "source": [
    "X = ml_resort_data.drop(\"is_canceled\", 1)\n",
    "y = ml_resort_data.loc[:,['is_canceled']]"
   ]
  },
  {
   "cell_type": "code",
   "execution_count": 19,
   "metadata": {},
   "outputs": [],
   "source": [
    "#셋분리\n",
    "X_train,X_test,y_train,y_test=train_test_split(X,y,test_size=0.2)\n",
    "\n",
    "sc = StandardScaler()\n",
    "X_train = sc.fit_transform(X_train)\n",
    "X_test = sc.transform(X_test)"
   ]
  },
  {
   "cell_type": "code",
   "execution_count": 20,
   "metadata": {},
   "outputs": [
    {
     "name": "stdout",
     "output_type": "stream",
     "text": [
      "[LightGBM] [Info] Number of positive: 8899, number of negative: 23149\n",
      "[LightGBM] [Warning] Auto-choosing row-wise multi-threading, the overhead of testing was 0.001136 seconds.\n",
      "You can set `force_row_wise=true` to remove the overhead.\n",
      "And if memory is not enough, you can set `force_col_wise=true`.\n",
      "[LightGBM] [Info] Total Bins 281\n",
      "[LightGBM] [Info] Number of data points in the train set: 32048, number of used features: 9\n",
      "[LightGBM] [Info] [binary:BoostFromScore]: pavg=0.277677 -> initscore=-0.956013\n",
      "[LightGBM] [Info] Start training from score -0.956013\n"
     ]
    }
   ],
   "source": [
    "d_train = lgb.Dataset(X_train, label=y_train)\n",
    "\n",
    "params = {}\n",
    "params['learning_rate'] = 0.05\n",
    "params['boosting_type'] = 'gbdt'\n",
    "params['objective'] = 'binary'\n",
    "params['metric'] = 'binary_logloss'\n",
    "\n",
    "clf = lgb.train(params, d_train)"
   ]
  },
  {
   "cell_type": "code",
   "execution_count": 21,
   "metadata": {},
   "outputs": [],
   "source": [
    "#예측\n",
    "#Prediction\n",
    "y_pred=clf.predict(X_test)\n",
    "#convert into binary values\n",
    "for i in range(len(y_pred)):\n",
    "    if y_pred[i]>=.32:\n",
    "        y_pred[i]=1\n",
    "    else:\n",
    "        y_pred[i]=0"
   ]
  },
  {
   "cell_type": "code",
   "execution_count": 22,
   "metadata": {},
   "outputs": [
    {
     "name": "stdout",
     "output_type": "stream",
     "text": [
      "accuracy_score(정확도):0.7606090863704443\n",
      "recall_score(재현율):0.8466036887089519\n",
      "precision_score(정밀도):0.5440878866724487\n",
      "f1_score(f1점수):0.6624428018303413\n",
      "roc_auc_score:0.7870952456327623\n"
     ]
    }
   ],
   "source": [
    "# 분류모델평가: 정확도, 재현율, 정밀도, f1-점수와 roc_auc 점수\n",
    "from sklearn.metrics import accuracy_score,recall_score, precision_score, f1_score, roc_auc_score\n",
    "print(f\"accuracy_score(정확도):{accuracy_score(y_test, y_pred)}\")\n",
    "print(f\"recall_score(재현율):{recall_score(y_test, y_pred)}\")\n",
    "print(f\"precision_score(정밀도):{precision_score(y_test, y_pred)}\")\n",
    "print(f\"f1_score(f1점수):{f1_score(y_test, y_pred)}\")\n",
    "print(f\"roc_auc_score:{roc_auc_score(y_test, y_pred)}\")  #0.5면 랜덤예측 1.0이면 완벽예측"
   ]
  },
  {
   "cell_type": "code",
   "execution_count": 23,
   "metadata": {},
   "outputs": [
    {
     "name": "stdout",
     "output_type": "stream",
     "text": [
      "[[4212 1577]\n",
      " [ 341 1882]]\n"
     ]
    }
   ],
   "source": [
    "print(confusion_matrix(y_test, y_pred))"
   ]
  },
  {
   "cell_type": "code",
   "execution_count": 24,
   "metadata": {},
   "outputs": [
    {
     "name": "stdout",
     "output_type": "stream",
     "text": [
      "-0.19411603762141527\n",
      "0.23939091362955567\n",
      "0.48927590746894095\n",
      "0.23939091362955567\n"
     ]
    }
   ],
   "source": [
    "from sklearn.metrics import r2_score, mean_squared_error, mean_absolute_error\n",
    "import math\n",
    "\n",
    "#설명력 R2 : 얼마나 잘 설명하느냐 ? \n",
    "print(r2_score(y_test, y_pred))\n",
    "\n",
    "#예측력 MSE \n",
    "print(mean_squared_error(y_test, y_pred))\n",
    "\n",
    "# RMSE 예측력 : 해석을 위해서 > 얼마나 잘 맞추었냐 ? \n",
    "print(math.sqrt(mean_squared_error(y_test, y_pred)))\n",
    "\n",
    "# MAE : 해석을 위해서\n",
    "print(mean_absolute_error(y_test, y_pred))"
   ]
  },
  {
   "cell_type": "markdown",
   "metadata": {},
   "source": [
    "# 기본데이터 resort"
   ]
  },
  {
   "cell_type": "code",
   "execution_count": 25,
   "metadata": {},
   "outputs": [
    {
     "data": {
      "text/html": [
       "<div>\n",
       "<style scoped>\n",
       "    .dataframe tbody tr th:only-of-type {\n",
       "        vertical-align: middle;\n",
       "    }\n",
       "\n",
       "    .dataframe tbody tr th {\n",
       "        vertical-align: top;\n",
       "    }\n",
       "\n",
       "    .dataframe thead th {\n",
       "        text-align: right;\n",
       "    }\n",
       "</style>\n",
       "<table border=\"1\" class=\"dataframe\">\n",
       "  <thead>\n",
       "    <tr style=\"text-align: right;\">\n",
       "      <th></th>\n",
       "      <th>hotel</th>\n",
       "      <th>is_canceled</th>\n",
       "      <th>lead_time</th>\n",
       "      <th>arrival_date_year</th>\n",
       "      <th>arrival_date_month</th>\n",
       "      <th>arrival_date_week_number</th>\n",
       "      <th>arrival_date_day_of_month</th>\n",
       "      <th>stays_in_weekend_nights</th>\n",
       "      <th>stays_in_week_nights</th>\n",
       "      <th>adults</th>\n",
       "      <th>...</th>\n",
       "      <th>deposit_type</th>\n",
       "      <th>agent</th>\n",
       "      <th>company</th>\n",
       "      <th>days_in_waiting_list</th>\n",
       "      <th>customer_type</th>\n",
       "      <th>adr</th>\n",
       "      <th>required_car_parking_spaces</th>\n",
       "      <th>total_of_special_requests</th>\n",
       "      <th>reservation_status</th>\n",
       "      <th>reservation_status_date</th>\n",
       "    </tr>\n",
       "  </thead>\n",
       "  <tbody>\n",
       "    <tr>\n",
       "      <th>0</th>\n",
       "      <td>Resort Hotel</td>\n",
       "      <td>0</td>\n",
       "      <td>342</td>\n",
       "      <td>2015</td>\n",
       "      <td>July</td>\n",
       "      <td>27</td>\n",
       "      <td>1</td>\n",
       "      <td>0</td>\n",
       "      <td>0</td>\n",
       "      <td>2</td>\n",
       "      <td>...</td>\n",
       "      <td>No Deposit</td>\n",
       "      <td>NaN</td>\n",
       "      <td>NaN</td>\n",
       "      <td>0</td>\n",
       "      <td>Transient</td>\n",
       "      <td>0.0</td>\n",
       "      <td>0</td>\n",
       "      <td>0</td>\n",
       "      <td>Check-Out</td>\n",
       "      <td>2015-07-01</td>\n",
       "    </tr>\n",
       "    <tr>\n",
       "      <th>1</th>\n",
       "      <td>Resort Hotel</td>\n",
       "      <td>0</td>\n",
       "      <td>737</td>\n",
       "      <td>2015</td>\n",
       "      <td>July</td>\n",
       "      <td>27</td>\n",
       "      <td>1</td>\n",
       "      <td>0</td>\n",
       "      <td>0</td>\n",
       "      <td>2</td>\n",
       "      <td>...</td>\n",
       "      <td>No Deposit</td>\n",
       "      <td>NaN</td>\n",
       "      <td>NaN</td>\n",
       "      <td>0</td>\n",
       "      <td>Transient</td>\n",
       "      <td>0.0</td>\n",
       "      <td>0</td>\n",
       "      <td>0</td>\n",
       "      <td>Check-Out</td>\n",
       "      <td>2015-07-01</td>\n",
       "    </tr>\n",
       "    <tr>\n",
       "      <th>2</th>\n",
       "      <td>Resort Hotel</td>\n",
       "      <td>0</td>\n",
       "      <td>7</td>\n",
       "      <td>2015</td>\n",
       "      <td>July</td>\n",
       "      <td>27</td>\n",
       "      <td>1</td>\n",
       "      <td>0</td>\n",
       "      <td>1</td>\n",
       "      <td>1</td>\n",
       "      <td>...</td>\n",
       "      <td>No Deposit</td>\n",
       "      <td>NaN</td>\n",
       "      <td>NaN</td>\n",
       "      <td>0</td>\n",
       "      <td>Transient</td>\n",
       "      <td>75.0</td>\n",
       "      <td>0</td>\n",
       "      <td>0</td>\n",
       "      <td>Check-Out</td>\n",
       "      <td>2015-07-02</td>\n",
       "    </tr>\n",
       "    <tr>\n",
       "      <th>3</th>\n",
       "      <td>Resort Hotel</td>\n",
       "      <td>0</td>\n",
       "      <td>13</td>\n",
       "      <td>2015</td>\n",
       "      <td>July</td>\n",
       "      <td>27</td>\n",
       "      <td>1</td>\n",
       "      <td>0</td>\n",
       "      <td>1</td>\n",
       "      <td>1</td>\n",
       "      <td>...</td>\n",
       "      <td>No Deposit</td>\n",
       "      <td>304.0</td>\n",
       "      <td>NaN</td>\n",
       "      <td>0</td>\n",
       "      <td>Transient</td>\n",
       "      <td>75.0</td>\n",
       "      <td>0</td>\n",
       "      <td>0</td>\n",
       "      <td>Check-Out</td>\n",
       "      <td>2015-07-02</td>\n",
       "    </tr>\n",
       "    <tr>\n",
       "      <th>4</th>\n",
       "      <td>Resort Hotel</td>\n",
       "      <td>0</td>\n",
       "      <td>14</td>\n",
       "      <td>2015</td>\n",
       "      <td>July</td>\n",
       "      <td>27</td>\n",
       "      <td>1</td>\n",
       "      <td>0</td>\n",
       "      <td>2</td>\n",
       "      <td>2</td>\n",
       "      <td>...</td>\n",
       "      <td>No Deposit</td>\n",
       "      <td>240.0</td>\n",
       "      <td>NaN</td>\n",
       "      <td>0</td>\n",
       "      <td>Transient</td>\n",
       "      <td>98.0</td>\n",
       "      <td>0</td>\n",
       "      <td>1</td>\n",
       "      <td>Check-Out</td>\n",
       "      <td>2015-07-03</td>\n",
       "    </tr>\n",
       "  </tbody>\n",
       "</table>\n",
       "<p>5 rows × 32 columns</p>\n",
       "</div>"
      ],
      "text/plain": [
       "          hotel  is_canceled  lead_time  arrival_date_year arrival_date_month  \\\n",
       "0  Resort Hotel            0        342               2015               July   \n",
       "1  Resort Hotel            0        737               2015               July   \n",
       "2  Resort Hotel            0          7               2015               July   \n",
       "3  Resort Hotel            0         13               2015               July   \n",
       "4  Resort Hotel            0         14               2015               July   \n",
       "\n",
       "   arrival_date_week_number  arrival_date_day_of_month  \\\n",
       "0                        27                          1   \n",
       "1                        27                          1   \n",
       "2                        27                          1   \n",
       "3                        27                          1   \n",
       "4                        27                          1   \n",
       "\n",
       "   stays_in_weekend_nights  stays_in_week_nights  adults  ...  deposit_type  \\\n",
       "0                        0                     0       2  ...    No Deposit   \n",
       "1                        0                     0       2  ...    No Deposit   \n",
       "2                        0                     1       1  ...    No Deposit   \n",
       "3                        0                     1       1  ...    No Deposit   \n",
       "4                        0                     2       2  ...    No Deposit   \n",
       "\n",
       "   agent company days_in_waiting_list customer_type   adr  \\\n",
       "0    NaN     NaN                    0     Transient   0.0   \n",
       "1    NaN     NaN                    0     Transient   0.0   \n",
       "2    NaN     NaN                    0     Transient  75.0   \n",
       "3  304.0     NaN                    0     Transient  75.0   \n",
       "4  240.0     NaN                    0     Transient  98.0   \n",
       "\n",
       "   required_car_parking_spaces  total_of_special_requests  reservation_status  \\\n",
       "0                            0                          0           Check-Out   \n",
       "1                            0                          0           Check-Out   \n",
       "2                            0                          0           Check-Out   \n",
       "3                            0                          0           Check-Out   \n",
       "4                            0                          1           Check-Out   \n",
       "\n",
       "  reservation_status_date  \n",
       "0              2015-07-01  \n",
       "1              2015-07-01  \n",
       "2              2015-07-02  \n",
       "3              2015-07-02  \n",
       "4              2015-07-03  \n",
       "\n",
       "[5 rows x 32 columns]"
      ]
     },
     "execution_count": 25,
     "metadata": {},
     "output_type": "execute_result"
    }
   ],
   "source": [
    "ml_data = pd.read_csv('data/hotel_bookings.csv')\n",
    "ml_data.head()"
   ]
  },
  {
   "cell_type": "code",
   "execution_count": 26,
   "metadata": {},
   "outputs": [],
   "source": [
    "ml_hotel_basic = ml_data[ml_data[\"hotel\"]==\"Resort Hotel\"]"
   ]
  },
  {
   "cell_type": "code",
   "execution_count": 27,
   "metadata": {},
   "outputs": [],
   "source": [
    "label = ml_hotel_basic['is_canceled']\n",
    "feature = ml_hotel_basic.drop(['hotel','is_canceled'],axis = 1)"
   ]
  },
  {
   "cell_type": "code",
   "execution_count": 28,
   "metadata": {},
   "outputs": [],
   "source": [
    "numerical_columns = [column for column in feature.columns if feature.dtypes[column] != 'object']"
   ]
  },
  {
   "cell_type": "code",
   "execution_count": 39,
   "metadata": {},
   "outputs": [
    {
     "data": {
      "text/plain": [
       "['lead_time',\n",
       " 'arrival_date_year',\n",
       " 'arrival_date_week_number',\n",
       " 'arrival_date_day_of_month',\n",
       " 'stays_in_weekend_nights',\n",
       " 'stays_in_week_nights',\n",
       " 'adults',\n",
       " 'children',\n",
       " 'babies',\n",
       " 'is_repeated_guest',\n",
       " 'previous_cancellations',\n",
       " 'previous_bookings_not_canceled',\n",
       " 'booking_changes',\n",
       " 'agent',\n",
       " 'company',\n",
       " 'days_in_waiting_list',\n",
       " 'adr',\n",
       " 'required_car_parking_spaces',\n",
       " 'total_of_special_requests']"
      ]
     },
     "execution_count": 39,
     "metadata": {},
     "output_type": "execute_result"
    }
   ],
   "source": [
    "numerical_columns"
   ]
  },
  {
   "cell_type": "code",
   "execution_count": 29,
   "metadata": {},
   "outputs": [],
   "source": [
    "from sklearn.model_selection import train_test_split\n",
    "\n",
    "X_train, X_test, y_train, y_test = train_test_split(feature[numerical_columns],label,test_size=0.2, stratify=label,random_state=42)"
   ]
  },
  {
   "cell_type": "code",
   "execution_count": 30,
   "metadata": {},
   "outputs": [],
   "source": [
    "sc = StandardScaler()\n",
    "X_train = sc.fit_transform(X_train)\n",
    "X_test = sc.transform(X_test)"
   ]
  },
  {
   "cell_type": "code",
   "execution_count": 31,
   "metadata": {},
   "outputs": [
    {
     "name": "stdout",
     "output_type": "stream",
     "text": [
      "[LightGBM] [Info] Number of positive: 8898, number of negative: 23150\n",
      "[LightGBM] [Warning] Auto-choosing row-wise multi-threading, the overhead of testing was 0.001678 seconds.\n",
      "You can set `force_row_wise=true` to remove the overhead.\n",
      "And if memory is not enough, you can set `force_col_wise=true`.\n",
      "[LightGBM] [Info] Total Bins 1015\n",
      "[LightGBM] [Info] Number of data points in the train set: 32048, number of used features: 19\n",
      "[LightGBM] [Info] [binary:BoostFromScore]: pavg=0.277646 -> initscore=-0.956168\n",
      "[LightGBM] [Info] Start training from score -0.956168\n"
     ]
    }
   ],
   "source": [
    "d_train = lgb.Dataset(X_train, label=y_train)\n",
    "\n",
    "params = {}\n",
    "params['learning_rate'] = 0.05\n",
    "params['boosting_type'] = 'gbdt'\n",
    "params['objective'] = 'binary'\n",
    "params['metric'] = 'binary_logloss'\n",
    "\n",
    "clf = lgb.train(params, d_train)"
   ]
  },
  {
   "cell_type": "code",
   "execution_count": 33,
   "metadata": {},
   "outputs": [],
   "source": [
    "#예측\n",
    "#Prediction\n",
    "y_pred=clf.predict(X_test)\n",
    "#convert into binary values\n",
    "for i in range(len(y_pred)):\n",
    "    if y_pred[i]>=.28:\n",
    "        y_pred[i]=1\n",
    "    else:\n",
    "        y_pred[i]=0"
   ]
  },
  {
   "cell_type": "code",
   "execution_count": 34,
   "metadata": {
    "scrolled": false
   },
   "outputs": [
    {
     "name": "stdout",
     "output_type": "stream",
     "text": [
      "accuracy_score(정확도):0.8017973040439341\n",
      "recall_score(재현율):0.8295863309352518\n",
      "precision_score(정밀도):0.6041257367387033\n",
      "f1_score(f1점수):0.6991284577491473\n",
      "roc_auc_score:0.8103529443204249\n"
     ]
    }
   ],
   "source": [
    "# 분류모델평가: 정확도, 재현율, 정밀도, f1-점수와 roc_auc 점수\n",
    "from sklearn.metrics import accuracy_score,recall_score, precision_score, f1_score, roc_auc_score\n",
    "print(f\"accuracy_score(정확도):{accuracy_score(y_test, y_pred)}\")\n",
    "print(f\"recall_score(재현율):{recall_score(y_test, y_pred)}\")\n",
    "print(f\"precision_score(정밀도):{precision_score(y_test, y_pred)}\")\n",
    "print(f\"f1_score(f1점수):{f1_score(y_test, y_pred)}\")\n",
    "print(f\"roc_auc_score:{roc_auc_score(y_test, y_pred)}\")  #0.5면 랜덤예측 1.0이면 완벽예측"
   ]
  },
  {
   "cell_type": "markdown",
   "metadata": {},
   "source": [
    "# 기본데이터 city"
   ]
  },
  {
   "cell_type": "code",
   "execution_count": 43,
   "metadata": {},
   "outputs": [],
   "source": [
    "ml_hotel_basic = ml_data[ml_data[\"hotel\"]==\"City Hotel\"]"
   ]
  },
  {
   "cell_type": "code",
   "execution_count": 44,
   "metadata": {},
   "outputs": [],
   "source": [
    "label = ml_hotel_basic['is_canceled']\n",
    "feature = ml_hotel_basic.drop(['hotel','is_canceled'],axis = 1)"
   ]
  },
  {
   "cell_type": "code",
   "execution_count": 45,
   "metadata": {},
   "outputs": [],
   "source": [
    "numerical_columns = [column for column in feature.columns if feature.dtypes[column] != 'object']"
   ]
  },
  {
   "cell_type": "code",
   "execution_count": 46,
   "metadata": {},
   "outputs": [],
   "source": [
    "from sklearn.model_selection import train_test_split\n",
    "\n",
    "X_train, X_test, y_train, y_test = train_test_split(feature[numerical_columns],label,test_size=0.2, stratify=label,random_state=42)\n",
    "\n",
    "sc = StandardScaler()\n",
    "X_train = sc.fit_transform(X_train)\n",
    "X_test = sc.transform(X_test)"
   ]
  },
  {
   "cell_type": "code",
   "execution_count": 47,
   "metadata": {},
   "outputs": [
    {
     "name": "stdout",
     "output_type": "stream",
     "text": [
      "[LightGBM] [Info] Number of positive: 26482, number of negative: 36982\n",
      "[LightGBM] [Warning] Auto-choosing col-wise multi-threading, the overhead of testing was 0.004440 seconds.\n",
      "You can set `force_col_wise=true` to remove the overhead.\n",
      "[LightGBM] [Info] Total Bins 1128\n",
      "[LightGBM] [Info] Number of data points in the train set: 63464, number of used features: 19\n",
      "[LightGBM] [Info] [binary:BoostFromScore]: pavg=0.417276 -> initscore=-0.333966\n",
      "[LightGBM] [Info] Start training from score -0.333966\n"
     ]
    }
   ],
   "source": [
    "d_train = lgb.Dataset(X_train, label=y_train)\n",
    "\n",
    "params = {}\n",
    "params['learning_rate'] = 0.05\n",
    "params['boosting_type'] = 'gbdt'\n",
    "params['objective'] = 'binary'\n",
    "params['metric'] = 'binary_logloss'\n",
    "\n",
    "clf = lgb.train(params, d_train)"
   ]
  },
  {
   "cell_type": "code",
   "execution_count": 48,
   "metadata": {},
   "outputs": [],
   "source": [
    "#예측\n",
    "#Prediction\n",
    "y_pred=clf.predict(X_test)\n",
    "#convert into binary values\n",
    "for i in range(len(y_pred)):\n",
    "    if y_pred[i]>=.4:\n",
    "        y_pred[i]=1\n",
    "    else:\n",
    "        y_pred[i]=0"
   ]
  },
  {
   "cell_type": "code",
   "execution_count": 49,
   "metadata": {},
   "outputs": [
    {
     "name": "stdout",
     "output_type": "stream",
     "text": [
      "accuracy_score(정확도):0.8193621580738687\n",
      "recall_score(재현율):0.7765861027190333\n",
      "precision_score(정밀도):0.7875306372549019\n",
      "f1_score(f1점수):0.7820200790994828\n",
      "roc_auc_score:0.8132876436156274\n"
     ]
    }
   ],
   "source": [
    "# 분류모델평가: 정확도, 재현율, 정밀도, f1-점수와 roc_auc 점수\n",
    "from sklearn.metrics import accuracy_score,recall_score, precision_score, f1_score, roc_auc_score\n",
    "print(f\"accuracy_score(정확도):{accuracy_score(y_test, y_pred)}\")\n",
    "print(f\"recall_score(재현율):{recall_score(y_test, y_pred)}\")\n",
    "print(f\"precision_score(정밀도):{precision_score(y_test, y_pred)}\")\n",
    "print(f\"f1_score(f1점수):{f1_score(y_test, y_pred)}\")\n",
    "print(f\"roc_auc_score:{roc_auc_score(y_test, y_pred)}\")  #0.5면 랜덤예측 1.0이면 완벽예측"
   ]
  }
 ],
 "metadata": {
  "kernelspec": {
   "display_name": "Python 3",
   "language": "python",
   "name": "python3"
  },
  "language_info": {
   "codemirror_mode": {
    "name": "ipython",
    "version": 3
   },
   "file_extension": ".py",
   "mimetype": "text/x-python",
   "name": "python",
   "nbconvert_exporter": "python",
   "pygments_lexer": "ipython3",
   "version": "3.7.6"
  }
 },
 "nbformat": 4,
 "nbformat_minor": 4
}
