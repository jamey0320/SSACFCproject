{
 "cells": [
  {
   "cell_type": "code",
   "execution_count": 1,
   "metadata": {},
   "outputs": [],
   "source": [
    "import pandas as pd\n",
    "import numpy as np"
   ]
  },
  {
   "cell_type": "code",
   "execution_count": 2,
   "metadata": {},
   "outputs": [],
   "source": [
    "data = pd.read_csv(\"data/hotel_bookings.csv\")"
   ]
  },
  {
   "cell_type": "markdown",
   "metadata": {},
   "source": [
    "### month데이터 int형으로 변경"
   ]
  },
  {
   "cell_type": "code",
   "execution_count": 3,
   "metadata": {},
   "outputs": [],
   "source": [
    "data['arrival_date_month'] = data['arrival_date_month'].replace('January', 1)\n",
    "data['arrival_date_month'] = data['arrival_date_month'].replace('February', 2)\n",
    "data['arrival_date_month'] = data['arrival_date_month'].replace('March', 3)\n",
    "data['arrival_date_month'] = data['arrival_date_month'].replace('April', 4)\n",
    "data['arrival_date_month'] = data['arrival_date_month'].replace('May', 5)\n",
    "data['arrival_date_month'] = data['arrival_date_month'].replace('June', 6)\n",
    "data['arrival_date_month'] = data['arrival_date_month'].replace('July', 7)\n",
    "data['arrival_date_month'] = data['arrival_date_month'].replace('August', 8)\n",
    "data['arrival_date_month'] = data['arrival_date_month'].replace('September', 9)\n",
    "data['arrival_date_month'] = data['arrival_date_month'].replace('October', 10)\n",
    "data['arrival_date_month'] = data['arrival_date_month'].replace('November', 11)\n",
    "data['arrival_date_month'] = data['arrival_date_month'].replace('December', 12)"
   ]
  },
  {
   "cell_type": "markdown",
   "metadata": {},
   "source": [
    "### 예약된 방과 할당된 방이 변경된 경우"
   ]
  },
  {
   "cell_type": "code",
   "execution_count": 4,
   "metadata": {},
   "outputs": [],
   "source": [
    "data['change_room'] = 0\n",
    "data.loc[data['assigned_room_type'] != data['reserved_room_type'], 'change_room'] = 1"
   ]
  },
  {
   "cell_type": "markdown",
   "metadata": {},
   "source": [
    "### 가족 형태의 고객인지 아닌지 나누기"
   ]
  },
  {
   "cell_type": "code",
   "execution_count": 5,
   "metadata": {},
   "outputs": [],
   "source": [
    "data['group_total'] = data['adults'] + data['children'] + data['babies']\n",
    "\n",
    "num1 = data[data['group_total'] == 0].index\n",
    "data = data.drop(num1)"
   ]
  },
  {
   "cell_type": "code",
   "execution_count": 6,
   "metadata": {},
   "outputs": [],
   "source": [
    "data['is_group'] = 0\n",
    "data.loc[data['group_total'] >= 3, 'is_group'] = 1\n",
    "data.loc[(data['children'] != 0) | (data['babies'] != 0) & (data['adults'] != 0), 'is_group'] = 1"
   ]
  },
  {
   "cell_type": "markdown",
   "metadata": {},
   "source": [
    "### lead time 구간별로 나누기"
   ]
  },
  {
   "cell_type": "code",
   "execution_count": 7,
   "metadata": {},
   "outputs": [],
   "source": [
    "data.loc[data['lead_time'] <= 30, 'lead_term'] = 1\n",
    "data.loc[(data['lead_time'] > 30) & (data['lead_time'] <= 90), 'lead_term'] = 2\n",
    "data.loc[(data['lead_time'] > 90) & (data['lead_time'] <= 180), 'lead_term'] = 3\n",
    "data.loc[(data['lead_time'] > 180) & (data['lead_time'] <= 365), 'lead_term'] = 4\n",
    "data.loc[(data['lead_time'] > 365), 'lead_term'] = 5"
   ]
  },
  {
   "cell_type": "markdown",
   "metadata": {},
   "source": [
    "### adr 구간별로 나누기"
   ]
  },
  {
   "cell_type": "code",
   "execution_count": 8,
   "metadata": {},
   "outputs": [],
   "source": [
    "num2 = data['adr']._get_numeric_data()\n",
    "num2[num2 < 0] = 0"
   ]
  },
  {
   "cell_type": "code",
   "execution_count": 9,
   "metadata": {},
   "outputs": [],
   "source": [
    "data.loc[data['adr'] <= 50, 'adr_term'] = 1\n",
    "data.loc[(data['adr'] > 50) & (data['adr'] <= 75), 'adr_term'] = 2\n",
    "data.loc[(data['adr'] > 75) & (data['adr'] <= 100), 'adr_term'] = 3\n",
    "data.loc[(data['adr'] > 100) & (data['adr'] <= 125), 'adr_term'] = 4\n",
    "data.loc[(data['adr'] > 125), 'adr_term'] = 5"
   ]
  },
  {
   "cell_type": "markdown",
   "metadata": {},
   "source": [
    "### 이전 예약취소 이력 구분(bool)"
   ]
  },
  {
   "cell_type": "code",
   "execution_count": 10,
   "metadata": {},
   "outputs": [],
   "source": [
    "data['precan_bool'] = 1\n",
    "data.loc[data['previous_cancellations'] == 0, 'precan_bool'] = 0"
   ]
  },
  {
   "cell_type": "markdown",
   "metadata": {},
   "source": [
    "### 패키지 여행(non direct) 여부(bool)"
   ]
  },
  {
   "cell_type": "code",
   "execution_count": 11,
   "metadata": {},
   "outputs": [],
   "source": [
    "data.loc[data[\"distribution_channel\"]=='Direct','Package(bool)'] = 0\n",
    "data.loc[data[\"distribution_channel\"]!='Direct','Package(bool)'] = 1\n",
    "data.loc[data[\"distribution_channel\"]=='Undefined','Package(bool)'] = np.nan"
   ]
  },
  {
   "cell_type": "markdown",
   "metadata": {},
   "source": [
    "### 주차공간 요구 (bool)"
   ]
  },
  {
   "cell_type": "code",
   "execution_count": 12,
   "metadata": {},
   "outputs": [],
   "source": [
    "data.loc[data['required_car_parking_spaces'] == 0, 'parkinglot'] = 0\n",
    "data.loc[data['required_car_parking_spaces'] > 0,'parkinglot'] = 1"
   ]
  },
  {
   "cell_type": "code",
   "execution_count": 13,
   "metadata": {},
   "outputs": [],
   "source": [
    "data.to_csv('data/hotel_bookings_data_preprocess.csv')"
   ]
  },
  {
   "cell_type": "markdown",
   "metadata": {},
   "source": [
    "### 호텔 분류"
   ]
  },
  {
   "cell_type": "code",
   "execution_count": 14,
   "metadata": {},
   "outputs": [],
   "source": [
    "data = data[['hotel', 'is_canceled', 'arrival_date_year', 'arrival_date_month',\n",
    "      'market_segment', 'change_room', 'is_group', 'lead_term', 'precan_bool', 'adr_term']]"
   ]
  },
  {
   "cell_type": "code",
   "execution_count": 15,
   "metadata": {},
   "outputs": [],
   "source": [
    "resort = data['hotel'] == 'Resort Hotel'\n",
    "resort_data = data[resort]\n",
    "\n",
    "city = data['hotel'] == 'City Hotel'\n",
    "city_data = data[city]"
   ]
  },
  {
   "cell_type": "code",
   "execution_count": 16,
   "metadata": {},
   "outputs": [],
   "source": [
    "resort_data = resort_data.drop('hotel', axis=1)\n",
    "city_data = city_data.drop('hotel', axis=1)\n",
    "city_data = city_data.reset_index(drop=True)"
   ]
  },
  {
   "cell_type": "code",
   "execution_count": 17,
   "metadata": {},
   "outputs": [],
   "source": [
    "resort_data.to_csv('data/resort_data_p.csv')\n",
    "city_data.to_csv('data/city_data_p.csv')"
   ]
  }
 ],
 "metadata": {
  "kernelspec": {
   "display_name": "Python 3",
   "language": "python",
   "name": "python3"
  },
  "language_info": {
   "codemirror_mode": {
    "name": "ipython",
    "version": 3
   },
   "file_extension": ".py",
   "mimetype": "text/x-python",
   "name": "python",
   "nbconvert_exporter": "python",
   "pygments_lexer": "ipython3",
   "version": "3.7.6"
  }
 },
 "nbformat": 4,
 "nbformat_minor": 4
}
